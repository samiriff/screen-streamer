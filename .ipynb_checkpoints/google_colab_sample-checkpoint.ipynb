{
 "cells": [
  {
   "cell_type": "code",
   "execution_count": null,
   "metadata": {},
   "outputs": [],
   "source": [
    "!pip install websockets"
   ]
  },
  {
   "cell_type": "code",
   "execution_count": null,
   "metadata": {},
   "outputs": [],
   "source": [
    "import asyncio\n",
    "import websockets\n",
    "import base64\n",
    "import cv2\n",
    "import numpy as np\n",
    "import matplotlib.pyplot as plt\n",
    "%matplotlib inline\n",
    "import time\n",
    "from IPython.display import clear_output"
   ]
  },
  {
   "cell_type": "code",
   "execution_count": null,
   "metadata": {},
   "outputs": [],
   "source": [
    "# Default values\n",
    "host = 'ws://localhost:8765'  # Modify this with a public URL if running remotely like ws://abcde.ngrok.io\n",
    "run_once = True               # Change to False to keep capturing images periodically\n",
    "time_period = 2               # Indicates the number of seconds between consecutive captures. Modify for your use case."
   ]
  },
  {
   "cell_type": "code",
   "execution_count": null,
   "metadata": {},
   "outputs": [],
   "source": [
    "def performOperation(img):\n",
    "    # TODO: Add your custom logic here for processing each image\n",
    "    # Eg., model.predict\n",
    "\n",
    "    print(\"Image shape = \", img.shape)\n",
    "    plt.imshow(img)\n",
    "    plt.show()"
   ]
  },
  {
   "cell_type": "code",
   "execution_count": null,
   "metadata": {},
   "outputs": [],
   "source": [
    "async def get_image():\n",
    "    while True:\n",
    "        async with websockets.connect(host) as websocket:\n",
    "            height, width = 500, 500\n",
    "            request = str(height) + 'x' + str(width)\n",
    "            await websocket.send(request)\n",
    "            print('>', request)\n",
    "            payload = await websocket.recv()\n",
    "            print('<', len(payload))\n",
    "            img = np.frombuffer(payload, dtype=np.uint8).reshape(height, width, 3)\n",
    "            performOperation(img)\n",
    "\n",
    "        if run_once:\n",
    "            print(\"Run Once = \", run_once)\n",
    "            break\n",
    "\n",
    "        time.sleep(time_period)"
   ]
  }
 ],
 "metadata": {
  "kernelspec": {
   "display_name": "Python 3",
   "language": "python",
   "name": "python3"
  },
  "language_info": {
   "codemirror_mode": {
    "name": "ipython",
    "version": 3
   },
   "file_extension": ".py",
   "mimetype": "text/x-python",
   "name": "python",
   "nbconvert_exporter": "python",
   "pygments_lexer": "ipython3",
   "version": "3.5.6"
  }
 },
 "nbformat": 4,
 "nbformat_minor": 2
}
